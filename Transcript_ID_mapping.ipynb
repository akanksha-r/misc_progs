{
 "cells": [
  {
   "cell_type": "markdown",
   "metadata": {},
   "source": [
    "# Code to map the transcript IDs (ENSEMBL ID to RefSeq ID and vice versa)"
   ]
  },
  {
   "cell_type": "markdown",
   "metadata": {},
   "source": [
    "### 1) Call libraries"
   ]
  },
  {
   "cell_type": "code",
   "execution_count": 1,
   "metadata": {},
   "outputs": [],
   "source": [
    "import gzip"
   ]
  },
  {
   "cell_type": "markdown",
   "metadata": {},
   "source": [
    "### 2) Define the input files"
   ]
  },
  {
   "cell_type": "code",
   "execution_count": 2,
   "metadata": {},
   "outputs": [],
   "source": [
    "# Define the input files\n",
    "refseq_id_file = 'refseq_ids_list.txt'\n",
    "ensembl_id_file = 'ensembl_ids_list.txt'\n",
    "mapping_id_file = 'kgXref.txt.gz'\n"
   ]
  },
  {
   "cell_type": "markdown",
   "metadata": {},
   "source": [
    "### 3) Code body"
   ]
  },
  {
   "cell_type": "code",
   "execution_count": 3,
   "metadata": {},
   "outputs": [
    {
     "name": "stdout",
     "output_type": "stream",
     "text": [
      "RefSeq ID\tENSEMBL ID\tGene Symbol\n",
      "NM_145160\tENST00000178640.10\tMAP2K5\n",
      "NM_004686\tENST00000180173.10\tMTMR7\n",
      "NM_012288\tENST00000182527.4\tTRAM2\n",
      "NM_025227\tENST00000170150.4\tBPIFB2\n",
      "NM_020695\tENST00000170168.9\tREXO1\n",
      "NM_031453\tENST00000181796.7\tFAM107B\n"
     ]
    }
   ],
   "source": [
    "# Read in the RefSeq IDs and ENSEMBL IDs\n",
    "with open(refseq_id_file, 'r') as f:\n",
    "    refseq_ids = [line.strip() for line in f.readlines()]\n",
    "\n",
    "with open(ensembl_id_file, 'r') as f:\n",
    "    ensembl_ids = [line.strip() for line in f.readlines()]\n",
    "\n",
    "\n",
    "# Read in the mapping file\n",
    "with gzip.open(mapping_id_file, 'rt') as f:\n",
    "#     next(f) # to skip the header\n",
    "    text_file = [line.strip().split('\\t') for line in f]\n",
    "\n",
    "    \n",
    "# Create dictionaries for the RefSeq and ENSEMBL IDs\n",
    "refseq_dict = {}\n",
    "ensembl_dict = {}\n",
    "for mapped in text_file:\n",
    "    refseq_id = mapped[1]\n",
    "    ensembl_id = mapped[0]\n",
    "    gene_symbol = mapped[4]\n",
    "    refseq_dict[refseq_id] = (ensembl_id, gene_symbol)\n",
    "    ensembl_dict[ensembl_id] = (refseq_id, gene_symbol)\n",
    "\n",
    "    \n",
    "# Match the RefSeq and ENSEMBL IDs\n",
    "refseq_matches = []\n",
    "ensembl_matches = []\n",
    "\n",
    "for refseq_id in refseq_ids:\n",
    "    if refseq_id in refseq_dict:\n",
    "        ensembl_id, gene_symbol = refseq_dict[refseq_id]\n",
    "        refseq_matches.append((refseq_id, ensembl_id, gene_symbol))\n",
    "    \n",
    "for ensembl_id in ensembl_ids:\n",
    "    if ensembl_id in ensembl_dict:\n",
    "        refseq_id, gene_symbol = ensembl_dict[ensembl_id]\n",
    "        ensembl_matches.append((ensembl_id, refseq_id, gene_symbol))\n",
    "\n",
    "        \n",
    "# Print the results\n",
    "print('RefSeq ID\\tENSEMBL ID\\tGene Symbol')\n",
    "for match in refseq_matches:\n",
    "    print(f'{match[0]}\\t{match[1]}\\t{match[2]}')\n",
    "for match in ensembl_matches:\n",
    "    print(f'{match[1]}\\t{match[0]}\\t{match[2]}')"
   ]
  },
  {
   "cell_type": "code",
   "execution_count": null,
   "metadata": {},
   "outputs": [],
   "source": []
  }
 ],
 "metadata": {
  "kernelspec": {
   "display_name": "Python 3",
   "language": "python",
   "name": "python3"
  },
  "language_info": {
   "codemirror_mode": {
    "name": "ipython",
    "version": 3
   },
   "file_extension": ".py",
   "mimetype": "text/x-python",
   "name": "python",
   "nbconvert_exporter": "python",
   "pygments_lexer": "ipython3",
   "version": "3.8.5"
  }
 },
 "nbformat": 4,
 "nbformat_minor": 4
}
